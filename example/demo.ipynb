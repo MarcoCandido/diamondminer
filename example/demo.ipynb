{
 "cells": [
  {
   "cell_type": "markdown",
   "metadata": {},
   "source": [
    "### Import modules"
   ]
  },
  {
   "cell_type": "code",
   "execution_count": null,
   "metadata": {},
   "outputs": [],
   "source": [
    "import pandas as pd\n",
    "\n",
    "from diamondminer.miner import *\n",
    "\n",
    "%matplotlib inline"
   ]
  },
  {
   "cell_type": "markdown",
   "metadata": {},
   "source": [
    "### Load Data\n",
    "\n",
    "First you need to load your data; here is an example demo dataset.\n",
    "\n",
    "> Note: Data is assumed to be clean and cropped so that it zooms into diamonds of interest."
   ]
  },
  {
   "cell_type": "code",
   "execution_count": null,
   "metadata": {},
   "outputs": [],
   "source": [
    "# Load the data from the txt file\n",
    "demo_data_loaded = pd.read_csv('demo_data_1.txt', sep='\\t', index_col=0)\n",
    "\n",
    "# Convert the loaded data back to numpy arrays if needed\n",
    "P_data = demo_data_loaded.columns.to_numpy().astype(float)\n",
    "S_data = demo_data_loaded.index.to_numpy().astype(float)\n",
    "I_data = demo_data_loaded.to_numpy().astype(float)"
   ]
  },
  {
   "cell_type": "markdown",
   "metadata": {},
   "source": [
    "### Extract Diamonds\n",
    "\n",
    "Next step is to extract the diamonds found in your data. The program does this by,\n",
    "\n",
    "1. Breaking the data into two halfs: upper and lower.\n",
    "2. Each half is used as input to the Hough transform.\n",
    "3. Detected lines are then filtered for any duplicates and are sorted based on which section they belong\n",
    "and whether their slope is positive or negative.\n",
    "4. Finally, cluster the relevent lines together and \"glue\" them together to form our diamonds.\n",
    "\n",
    "> Note: If the extraction isn't working, turn `debug=True` to plot any intermediate results. \n",
    "Adjust parameters found in `miner.filter_raw_data()`, `miner.extract_edges()`, `miner.extract_lines()` until lines are detected."
   ]
  },
  {
   "cell_type": "code",
   "execution_count": null,
   "metadata": {},
   "outputs": [],
   "source": [
    "miner = Miner(\n",
    "    gate_data=P_data, # Volts\n",
    "    ohmic_data=S_data * 1e-3, # Volts\n",
    "    current_data=I_data # Ampheres\n",
    ")\n",
    "diamonds = miner.extract_diamonds(debug = False)"
   ]
  },
  {
   "cell_type": "markdown",
   "metadata": {},
   "source": [
    "### Plotting the results!"
   ]
  },
  {
   "cell_type": "code",
   "execution_count": null,
   "metadata": {},
   "outputs": [],
   "source": [
    "fig, ax = plt.subplots()\n",
    "ax.imshow(\n",
    "    miner.current_data, \n",
    "    cmap='binary',\n",
    "    aspect='auto',\n",
    "    origin='lower',\n",
    "    extent=[\n",
    "        miner.gate_data[0],\n",
    "        miner.gate_data[-1], \n",
    "        miner.ohmic_data[0], \n",
    "        miner.ohmic_data[-1]\n",
    "    ],\n",
    ")\n",
    "ax.set_title(\"Coulomb Diamonds\")\n",
    "ax.set_xlabel(\"Gate Voltage (V)\")\n",
    "ax.set_ylabel(\"Ohmic Voltage (V)\")\n",
    "ax.ticklabel_format(axis='y', style='sci', scilimits=(0,0))\n",
    "for diamond in diamonds:\n",
    "    diamond.print_summary()\n",
    "    diamond.plot(ax)\n",
    "\n",
    "plt.tight_layout()\n",
    "plt.show()"
   ]
  },
  {
   "cell_type": "code",
   "execution_count": null,
   "metadata": {},
   "outputs": [],
   "source": [
    "statistics = miner.get_statistics()"
   ]
  },
  {
   "cell_type": "markdown",
   "metadata": {},
   "source": [
    "### Estimate Charge Temperature\n",
    "\n",
    "Next step is to extract the temperature of your charges based on data found in the Coulomb diamonds. The program does this by,\n",
    "\n",
    "1. Slicing the data at a specified user ohmic value (low bias regime)\n",
    "2. Fit the Coulomb oscillation to the theoretical function (see ref [here](https://pubs.aip.org/aip/apl/article/120/18/184003/2833621/Wafer-scale-low-disorder-2DEG-in-28Si-SiGe-without)),\n",
    "\n",
    "$$\n",
    "I(V_G) = A + B \\cosh^{-2}\\left(\\alpha\\frac{V_0 - V}{2 k_B T}\\right)\n",
    "$$\n",
    "\n",
    "where $A, B, V_0$ and $T$ are fit coefficients and $\\alpha$ is the lever arm that comes from the Coulomb diamond data.\n",
    "\n",
    "3. The average temperature is determined by averaging the results from the $N$ detected Coulomb oscillations,\n",
    "\n",
    "$$\n",
    "T = \\mu_T \\pm \\frac{\\sigma_T}{\\sqrt{N}}\n",
    "$$"
   ]
  },
  {
   "cell_type": "code",
   "execution_count": null,
   "metadata": {},
   "outputs": [],
   "source": [
    "ohmic_value = 0.5e-3 # Volts\n",
    "\n",
    "fig, ax = plt.subplots()\n",
    "# These are in unitless percentages of the figure size. (0,0 is bottom left)\n",
    "left, bottom, width, height = [0.375, 0.25, 0.3, 0.25]\n",
    "ax_inset = fig.add_axes([left, bottom, width, height])\n",
    "ax.imshow(\n",
    "    miner.current_data, \n",
    "    cmap='binary',\n",
    "    aspect='auto',\n",
    "    origin='lower',\n",
    "    extent=[\n",
    "        miner.gate_data[0],\n",
    "        miner.gate_data[-1], \n",
    "        miner.ohmic_data[0], \n",
    "        miner.ohmic_data[-1]\n",
    "    ],\n",
    ")\n",
    "ax.set_title(\"Charge Temperature\")\n",
    "ax.set_xlabel(\"Gate Voltage (V)\")\n",
    "ax.set_ylabel(\"Ohmic Voltage (V)\")\n",
    "ax.axhline(ohmic_value, c='k', linestyle=\"--\")\n",
    "ax.ticklabel_format(axis='y', style='sci', scilimits=(0,0))\n",
    "\n",
    "temperatures = miner.estimate_temperatures(diamonds, ohmic_value, axes=ax_inset)\n",
    "\n",
    "plt.show()"
   ]
  }
 ],
 "metadata": {
  "kernelspec": {
   "display_name": "diamond-miner",
   "language": "python",
   "name": "python3"
  },
  "language_info": {
   "codemirror_mode": {
    "name": "ipython",
    "version": 3
   },
   "file_extension": ".py",
   "mimetype": "text/x-python",
   "name": "python",
   "nbconvert_exporter": "python",
   "pygments_lexer": "ipython3",
   "version": "3.10.14"
  }
 },
 "nbformat": 4,
 "nbformat_minor": 2
}
